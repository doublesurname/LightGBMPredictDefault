{
 "cells": [
  {
   "cell_type": "code",
   "execution_count": 1,
   "metadata": {},
   "outputs": [],
   "source": [
    "import numpy as np\n",
    "import pandas as pd \n",
    "import matplotlib.pyplot as plt\n",
    "import seaborn as sns"
   ]
  },
  {
   "cell_type": "code",
   "execution_count": 2,
   "metadata": {},
   "outputs": [],
   "source": [
    "df= pd.read_csv(\"Credit Card Default II (balance).csv\")"
   ]
  },
  {
   "cell_type": "code",
   "execution_count": 3,
   "metadata": {},
   "outputs": [
    {
     "data": {
      "text/plain": [
       "income     0\n",
       "age        0\n",
       "loan       0\n",
       "default    0\n",
       "dtype: int64"
      ]
     },
     "execution_count": 3,
     "metadata": {},
     "output_type": "execute_result"
    }
   ],
   "source": [
    "#Check for null values\n",
    "df.isnull().sum()"
   ]
  },
  {
   "cell_type": "code",
   "execution_count": 4,
   "metadata": {},
   "outputs": [
    {
     "data": {
      "text/plain": [
       "income     0\n",
       "age        3\n",
       "loan       0\n",
       "default    0\n",
       "dtype: int64"
      ]
     },
     "execution_count": 4,
     "metadata": {},
     "output_type": "execute_result"
    }
   ],
   "source": [
    "#Check for negative number\n",
    "df.lt(0).sum()"
   ]
  },
  {
   "cell_type": "code",
   "execution_count": 5,
   "metadata": {},
   "outputs": [],
   "source": [
    "#Replace negative age with na as it is an invalid data value\n",
    "df[\"age\"] = df.age.apply(lambda x: x if x > 0 else np.nan)"
   ]
  },
  {
   "cell_type": "code",
   "execution_count": 6,
   "metadata": {},
   "outputs": [
    {
     "data": {
      "text/html": [
       "<div>\n",
       "<style scoped>\n",
       "    .dataframe tbody tr th:only-of-type {\n",
       "        vertical-align: middle;\n",
       "    }\n",
       "\n",
       "    .dataframe tbody tr th {\n",
       "        vertical-align: top;\n",
       "    }\n",
       "\n",
       "    .dataframe thead th {\n",
       "        text-align: right;\n",
       "    }\n",
       "</style>\n",
       "<table border=\"1\" class=\"dataframe\">\n",
       "  <thead>\n",
       "    <tr style=\"text-align: right;\">\n",
       "      <th></th>\n",
       "      <th>income</th>\n",
       "      <th>age</th>\n",
       "      <th>loan</th>\n",
       "      <th>default</th>\n",
       "    </tr>\n",
       "  </thead>\n",
       "  <tbody>\n",
       "    <tr>\n",
       "      <th>0</th>\n",
       "      <td>66155.92510</td>\n",
       "      <td>59.017015</td>\n",
       "      <td>8106.532131</td>\n",
       "      <td>0</td>\n",
       "    </tr>\n",
       "    <tr>\n",
       "      <th>1</th>\n",
       "      <td>34415.15397</td>\n",
       "      <td>48.117153</td>\n",
       "      <td>6564.745018</td>\n",
       "      <td>0</td>\n",
       "    </tr>\n",
       "    <tr>\n",
       "      <th>2</th>\n",
       "      <td>57317.17006</td>\n",
       "      <td>63.108049</td>\n",
       "      <td>8020.953296</td>\n",
       "      <td>0</td>\n",
       "    </tr>\n",
       "    <tr>\n",
       "      <th>3</th>\n",
       "      <td>42709.53420</td>\n",
       "      <td>45.751972</td>\n",
       "      <td>6103.642260</td>\n",
       "      <td>0</td>\n",
       "    </tr>\n",
       "    <tr>\n",
       "      <th>4</th>\n",
       "      <td>66952.68885</td>\n",
       "      <td>18.584336</td>\n",
       "      <td>8770.099235</td>\n",
       "      <td>1</td>\n",
       "    </tr>\n",
       "    <tr>\n",
       "      <th>5</th>\n",
       "      <td>24904.06414</td>\n",
       "      <td>57.471607</td>\n",
       "      <td>15.498598</td>\n",
       "      <td>0</td>\n",
       "    </tr>\n",
       "    <tr>\n",
       "      <th>6</th>\n",
       "      <td>48430.35961</td>\n",
       "      <td>26.809132</td>\n",
       "      <td>5722.581981</td>\n",
       "      <td>0</td>\n",
       "    </tr>\n",
       "    <tr>\n",
       "      <th>7</th>\n",
       "      <td>24500.14198</td>\n",
       "      <td>32.897548</td>\n",
       "      <td>2971.003310</td>\n",
       "      <td>1</td>\n",
       "    </tr>\n",
       "    <tr>\n",
       "      <th>8</th>\n",
       "      <td>40654.89254</td>\n",
       "      <td>55.496853</td>\n",
       "      <td>4755.825280</td>\n",
       "      <td>0</td>\n",
       "    </tr>\n",
       "    <tr>\n",
       "      <th>9</th>\n",
       "      <td>25075.87277</td>\n",
       "      <td>39.776378</td>\n",
       "      <td>1409.230371</td>\n",
       "      <td>0</td>\n",
       "    </tr>\n",
       "    <tr>\n",
       "      <th>10</th>\n",
       "      <td>64131.41537</td>\n",
       "      <td>25.679575</td>\n",
       "      <td>4351.028971</td>\n",
       "      <td>0</td>\n",
       "    </tr>\n",
       "    <tr>\n",
       "      <th>11</th>\n",
       "      <td>59436.84712</td>\n",
       "      <td>60.471936</td>\n",
       "      <td>9254.244538</td>\n",
       "      <td>0</td>\n",
       "    </tr>\n",
       "    <tr>\n",
       "      <th>12</th>\n",
       "      <td>61050.34608</td>\n",
       "      <td>26.355044</td>\n",
       "      <td>5893.264659</td>\n",
       "      <td>0</td>\n",
       "    </tr>\n",
       "    <tr>\n",
       "      <th>13</th>\n",
       "      <td>27267.99546</td>\n",
       "      <td>61.576776</td>\n",
       "      <td>4759.787581</td>\n",
       "      <td>0</td>\n",
       "    </tr>\n",
       "    <tr>\n",
       "      <th>14</th>\n",
       "      <td>63061.96017</td>\n",
       "      <td>39.201553</td>\n",
       "      <td>1850.369377</td>\n",
       "      <td>0</td>\n",
       "    </tr>\n",
       "    <tr>\n",
       "      <th>15</th>\n",
       "      <td>50501.72669</td>\n",
       "      <td>NaN</td>\n",
       "      <td>3977.287432</td>\n",
       "      <td>0</td>\n",
       "    </tr>\n",
       "  </tbody>\n",
       "</table>\n",
       "</div>"
      ],
      "text/plain": [
       "         income        age         loan  default\n",
       "0   66155.92510  59.017015  8106.532131        0\n",
       "1   34415.15397  48.117153  6564.745018        0\n",
       "2   57317.17006  63.108049  8020.953296        0\n",
       "3   42709.53420  45.751972  6103.642260        0\n",
       "4   66952.68885  18.584336  8770.099235        1\n",
       "5   24904.06414  57.471607    15.498598        0\n",
       "6   48430.35961  26.809132  5722.581981        0\n",
       "7   24500.14198  32.897548  2971.003310        1\n",
       "8   40654.89254  55.496853  4755.825280        0\n",
       "9   25075.87277  39.776378  1409.230371        0\n",
       "10  64131.41537  25.679575  4351.028971        0\n",
       "11  59436.84712  60.471936  9254.244538        0\n",
       "12  61050.34608  26.355044  5893.264659        0\n",
       "13  27267.99546  61.576776  4759.787581        0\n",
       "14  63061.96017  39.201553  1850.369377        0\n",
       "15  50501.72669        NaN  3977.287432        0"
      ]
     },
     "execution_count": 6,
     "metadata": {},
     "output_type": "execute_result"
    }
   ],
   "source": [
    "#Check that is is sucessfully replace with na\n",
    "df.head(16)"
   ]
  },
  {
   "cell_type": "code",
   "execution_count": 7,
   "metadata": {},
   "outputs": [
    {
     "data": {
      "text/plain": [
       "income     0\n",
       "age        3\n",
       "loan       0\n",
       "default    0\n",
       "dtype: int64"
      ]
     },
     "execution_count": 7,
     "metadata": {},
     "output_type": "execute_result"
    }
   ],
   "source": [
    "#Check that is is sucessfully replace with na\n",
    "df.isnull().sum()"
   ]
  },
  {
   "cell_type": "code",
   "execution_count": 8,
   "metadata": {},
   "outputs": [],
   "source": [
    "df = df.dropna()"
   ]
  },
  {
   "cell_type": "code",
   "execution_count": 9,
   "metadata": {},
   "outputs": [
    {
     "data": {
      "text/plain": [
       "income     0\n",
       "age        0\n",
       "loan       0\n",
       "default    0\n",
       "dtype: int64"
      ]
     },
     "execution_count": 9,
     "metadata": {},
     "output_type": "execute_result"
    }
   ],
   "source": [
    "#Ensure that na values are dropped\n",
    "df.isnull().sum()"
   ]
  },
  {
   "cell_type": "code",
   "execution_count": 10,
   "metadata": {},
   "outputs": [
    {
     "name": "stderr",
     "output_type": "stream",
     "text": [
      "C:\\Users\\kebom\\anaconda3\\lib\\site-packages\\ipykernel_launcher.py:4: DeprecationWarning: `np.float` is a deprecated alias for the builtin `float`. To silence this warning, use `float` by itself. Doing this will not modify any behavior and is safe. If you specifically wanted the numpy scalar type, use `np.float64` here.\n",
      "Deprecated in NumPy 1.20; for more details and guidance: https://numpy.org/devdocs/release/1.20.0-notes.html#deprecations\n",
      "  after removing the cwd from sys.path.\n"
     ]
    }
   ],
   "source": [
    "#remove outlier\n",
    "import numpy as np\n",
    "from scipy import stats\n",
    "z = stats.zscore(df.astype(np.float)) #zscore conversion need float\n",
    "z = np.abs(z) #convert all to positive because the parity is not important\n",
    "f = (z < 3).all(axis=1) #3 is your choice, axis =1 means by columns, f is a flag\n",
    "\n",
    "df = df[f]"
   ]
  },
  {
   "cell_type": "code",
   "execution_count": 11,
   "metadata": {},
   "outputs": [],
   "source": [
    "X = df.loc[:,[\"income\", \"age\", \"loan\"]]\n",
    "Y = df.loc[:,[\"default\"]]"
   ]
  },
  {
   "cell_type": "code",
   "execution_count": 12,
   "metadata": {},
   "outputs": [
    {
     "name": "stdout",
     "output_type": "stream",
     "text": [
      "  feature        VIF\n",
      "0  income  12.181603\n",
      "1     age   5.139917\n",
      "2    loan   6.209883\n"
     ]
    }
   ],
   "source": [
    "###########Logistic regression##########\n",
    "#Check for collinearity\n",
    "from statsmodels.stats.outliers_influence import variance_inflation_factor\n",
    "\n",
    "vif_data = pd.DataFrame()\n",
    "\n",
    "vif_data[\"feature\"] = X.columns\n",
    "\n",
    "vif_data[\"VIF\"] = [variance_inflation_factor(X.values, i) for i in range(len(X.columns))]\n",
    "\n",
    "print(vif_data)\n",
    "\n",
    "#income, age and loan is higly correlated to default rate"
   ]
  },
  {
   "cell_type": "code",
   "execution_count": 13,
   "metadata": {},
   "outputs": [
    {
     "data": {
      "text/plain": [
       "array([[<matplotlib.axes._subplots.AxesSubplot object at 0x0000022A03ABF048>,\n",
       "        <matplotlib.axes._subplots.AxesSubplot object at 0x0000022A03B09A88>],\n",
       "       [<matplotlib.axes._subplots.AxesSubplot object at 0x0000022A03B44AC8>,\n",
       "        <matplotlib.axes._subplots.AxesSubplot object at 0x0000022A03B7EC08>]],\n",
       "      dtype=object)"
      ]
     },
     "execution_count": 13,
     "metadata": {},
     "output_type": "execute_result"
    },
    {
     "data": {
      "image/png": "[encoded data removed]",
      "text/plain": [
       "<Figure size 432x288 with 4 Axes>"
      ]
     },
     "metadata": {
      "needs_background": "light"
     },
     "output_type": "display_data"
    }
   ],
   "source": [
    "#Data visualisation\n",
    "df.hist()"
   ]
  },
  {
   "cell_type": "code",
   "execution_count": 14,
   "metadata": {},
   "outputs": [
    {
     "data": {
      "text/plain": [
       "<matplotlib.axes._subplots.AxesSubplot at 0x22a03c8fbc8>"
      ]
     },
     "execution_count": 14,
     "metadata": {},
     "output_type": "execute_result"
    },
    {
     "data": {
      "image/png": "[encoded data removed]",
      "text/plain": [
       "<Figure size 432x288 with 2 Axes>"
      ]
     },
     "metadata": {
      "needs_background": "light"
     },
     "output_type": "display_data"
    }
   ],
   "source": [
    "#Data visualisation\n",
    "import seaborn as sns\n",
    "sns.heatmap(df.corr(), annot=True)"
   ]
  },
  {
   "cell_type": "code",
   "execution_count": 15,
   "metadata": {},
   "outputs": [
    {
     "name": "stdout",
     "output_type": "stream",
     "text": [
      "        income       age      loan\n",
      "0     1.457403  1.909165  0.792201\n",
      "1    -0.743092  1.047710  0.306524\n",
      "2     0.844638  2.232494  0.765243\n",
      "3    -0.168066  0.860782  0.161272\n",
      "4     1.512641 -1.286373  1.001231\n",
      "...        ...       ...       ...\n",
      "3423  1.093247 -1.021644  1.504295\n",
      "3424  1.185622 -0.776711  0.785072\n",
      "3425 -1.354369 -0.672598 -0.561212\n",
      "3426  0.210089 -0.926167  0.295469\n",
      "3427 -0.837331 -0.677398 -0.075549\n",
      "\n",
      "[3425 rows x 3 columns]\n"
     ]
    },
    {
     "name": "stderr",
     "output_type": "stream",
     "text": [
      "C:\\Users\\kebom\\anaconda3\\lib\\site-packages\\ipykernel_launcher.py:6: DeprecationWarning: `np.float` is a deprecated alias for the builtin `float`. To silence this warning, use `float` by itself. Doing this will not modify any behavior and is safe. If you specifically wanted the numpy scalar type, use `np.float64` here.\n",
      "Deprecated in NumPy 1.20; for more details and guidance: https://numpy.org/devdocs/release/1.20.0-notes.html#deprecations\n",
      "  \n"
     ]
    }
   ],
   "source": [
    "#normalization\n",
    "from scipy import stats\n",
    "import numpy as np\n",
    "pd.set_option('display.max_rows', 10)\n",
    "for i in X.columns:\n",
    "    X[i]=stats.zscore(X[i].astype(np.float))\n",
    "print(X)"
   ]
  },
  {
   "cell_type": "code",
   "execution_count": 16,
   "metadata": {},
   "outputs": [
    {
     "name": "stdout",
     "output_type": "stream",
     "text": [
      "        income       age      loan\n",
      "2259 -0.740616 -0.600879  0.266769\n",
      "2777  0.012758 -0.593580 -0.006699\n",
      "2978 -1.322568 -0.536175 -0.668988\n",
      "2006 -1.734696 -0.386418 -0.971608\n",
      "1040  0.080071 -0.890755  0.145569\n",
      "...        ...       ...       ...\n",
      "2979 -0.273396 -0.488249  0.410080\n",
      "2102 -1.119022 -0.347082 -0.600339\n",
      "435   0.398296  0.798594 -0.735443\n",
      "1779 -0.552599 -0.472939 -0.781586\n",
      "3285 -1.336153 -0.996753 -0.625370\n",
      "\n",
      "[2397 rows x 3 columns]         income       age      loan\n",
      "60   -0.860078 -0.030488 -1.418728\n",
      "590   1.584141 -0.584481 -1.243882\n",
      "1465  1.567973 -0.106054  0.398267\n",
      "354   1.039090  2.216811  0.503280\n",
      "2275  0.747820 -0.187053  0.805797\n",
      "...        ...       ...       ...\n",
      "1701 -0.325185 -0.094945 -1.176381\n",
      "2906 -1.548853 -0.234106 -0.693650\n",
      "2444  1.360330 -0.371371  0.969739\n",
      "1546 -1.370935  0.498794 -1.062041\n",
      "2303 -1.003375 -0.410955 -0.383781\n",
      "\n",
      "[1028 rows x 3 columns]       default\n",
      "2259        1\n",
      "2777        1\n",
      "2978        1\n",
      "2006        1\n",
      "1040        1\n",
      "...       ...\n",
      "2979        1\n",
      "2102        1\n",
      "435         0\n",
      "1779        0\n",
      "3285        1\n",
      "\n",
      "[2397 rows x 1 columns]       default\n",
      "60          0\n",
      "590         0\n",
      "1465        0\n",
      "354         0\n",
      "2275        1\n",
      "...       ...\n",
      "1701        0\n",
      "2906        1\n",
      "2444        1\n",
      "1546        0\n",
      "2303        1\n",
      "\n",
      "[1028 rows x 1 columns]\n"
     ]
    },
    {
     "name": "stderr",
     "output_type": "stream",
     "text": [
      "C:\\Users\\kebom\\anaconda3\\lib\\site-packages\\sklearn\\utils\\validation.py:760: DataConversionWarning: A column-vector y was passed when a 1d array was expected. Please change the shape of y to (n_samples, ), for example using ravel().\n",
      "  y = column_or_1d(y, warn=True)\n"
     ]
    }
   ],
   "source": [
    "#split, train, test and predict\n",
    "from sklearn.model_selection import train_test_split\n",
    "\n",
    "X_train, X_test, Y_train, Y_test = train_test_split(X,Y, test_size=0.3)\n",
    "print(X_train, X_test, Y_train, Y_test )\n",
    "\n",
    "from sklearn import linear_model\n",
    "model = linear_model.LogisticRegression()\n",
    "model.fit(X_train, Y_train)\n",
    "\n",
    "pred = model.predict(X_train)"
   ]
  },
  {
   "cell_type": "code",
   "execution_count": 17,
   "metadata": {},
   "outputs": [],
   "source": [
    "# Setting the seed to 10\n",
    "import numpy as np\n",
    "np.random.seed(10)"
   ]
  },
  {
   "cell_type": "code",
   "execution_count": 18,
   "metadata": {},
   "outputs": [
    {
     "name": "stdout",
     "output_type": "stream",
     "text": [
      "        income       age      loan\n",
      "1279  1.002142 -1.126297 -0.441003\n",
      "1699  1.577059  1.454177  1.547291\n",
      "155   1.421123  0.967777  2.175567\n",
      "1431  1.309987  0.102516 -1.243450\n",
      "877   1.566560 -0.676328  1.036350\n",
      "...        ...       ...       ...\n",
      "3198  1.311536 -0.659965  1.341262\n",
      "1347  1.695617  2.242814  2.341582\n",
      "530   0.228751 -0.500174 -1.512691\n",
      "3200  0.734904 -0.557506  0.711182\n",
      "1292  0.620065  1.759290  0.490591\n",
      "\n",
      "[2397 rows x 3 columns]         income       age      loan\n",
      "1503  1.669087 -0.697691  0.218349\n",
      "3238 -0.732574 -0.627499  0.246417\n",
      "1435  0.894675  1.512821 -1.591885\n",
      "2449 -0.824102 -0.987798  0.197336\n",
      "1800  1.519310  1.595878  1.653242\n",
      "...        ...       ...       ...\n",
      "2770  1.284063 -0.579525  1.031382\n",
      "3017  1.611599 -0.360861  1.663292\n",
      "2984 -0.748563 -0.607494 -0.097307\n",
      "2551  0.481007 -1.214620  1.016448\n",
      "107  -0.598823 -1.212763 -1.709296\n",
      "\n",
      "[1028 rows x 3 columns]       default\n",
      "1279        0\n",
      "1699        0\n",
      "155         0\n",
      "1431        0\n",
      "877         1\n",
      "...       ...\n",
      "3198        1\n",
      "1347        0\n",
      "530         0\n",
      "3200        1\n",
      "1292        0\n",
      "\n",
      "[2397 rows x 1 columns]       default\n",
      "1503        0\n",
      "3238        1\n",
      "1435        0\n",
      "2449        1\n",
      "1800        0\n",
      "...       ...\n",
      "2770        1\n",
      "3017        1\n",
      "2984        1\n",
      "2551        1\n",
      "107         0\n",
      "\n",
      "[1028 rows x 1 columns]\n",
      "[[1103   88]\n",
      " [  32 1174]]\n",
      "0.9499374217772215\n",
      "[[488  32]\n",
      " [ 17 491]]\n",
      "0.9523346303501945\n"
     ]
    },
    {
     "name": "stderr",
     "output_type": "stream",
     "text": [
      "C:\\Users\\kebom\\anaconda3\\lib\\site-packages\\sklearn\\utils\\validation.py:760: DataConversionWarning: A column-vector y was passed when a 1d array was expected. Please change the shape of y to (n_samples, ), for example using ravel().\n",
      "  y = column_or_1d(y, warn=True)\n"
     ]
    }
   ],
   "source": [
    "#Split train test, train, predict\n",
    "from sklearn.model_selection import train_test_split\n",
    "X_train, X_test, Y_train, Y_test = train_test_split(X,Y, test_size=0.3)\n",
    "print(X_train, X_test, Y_train, Y_test )\n",
    "\n",
    "from sklearn import linear_model\n",
    "model = linear_model.LogisticRegression()\n",
    "model.fit(X_train, Y_train)\n",
    "\n",
    "pred = model.predict(X_train)\n",
    "from sklearn.metrics import confusion_matrix\n",
    "cm = confusion_matrix(Y_train, pred)\n",
    "print(cm)\n",
    "\n",
    "accuracy = (cm[0,0]+cm[1,1])/sum(sum(cm))\n",
    "print(accuracy)\n",
    "\n",
    "pred = model.predict(X_test)\n",
    "cm = confusion_matrix(Y_test, pred)\n",
    "print(cm)\n",
    "\n",
    "accuracy = (cm[0,0]+cm[1,1])/sum(sum(cm))\n",
    "\n",
    "print(accuracy)\n",
    "\n",
    "#The accuracy of testset is higher than trainset "
   ]
  },
  {
   "cell_type": "code",
   "execution_count": 19,
   "metadata": {},
   "outputs": [
    {
     "data": {
      "image/png": "[encoded data removed]",
      "text/plain": [
       "<Figure size 432x288 with 1 Axes>"
      ]
     },
     "metadata": {
      "needs_background": "light"
     },
     "output_type": "display_data"
    }
   ],
   "source": [
    "#QQplot\n",
    "import statsmodels.api as sm\n",
    "from matplotlib import pyplot as plt\n",
    "mod_fit = sm.OLS(Y,X).fit()\n",
    "res = mod_fit.resid # residuals\n",
    "fig = sm.qqplot(res)\n",
    "plt.show()"
   ]
  },
  {
   "cell_type": "code",
   "execution_count": 20,
   "metadata": {},
   "outputs": [
    {
     "name": "stdout",
     "output_type": "stream",
     "text": [
      "Optimization terminated successfully.\n",
      "         Current function value: 0.189963\n",
      "         Iterations 8\n",
      "                         Results: Logit\n",
      "================================================================\n",
      "Model:              Logit            Pseudo R-squared: 0.726    \n",
      "Dependent Variable: default          AIC:              1307.2456\n",
      "Date:               2022-02-24 11:37 BIC:              1325.6622\n",
      "No. Observations:   3425             Log-Likelihood:   -650.62  \n",
      "Df Model:           2                LL-Null:          -2374.0  \n",
      "Df Residuals:       3422             LLR p-value:      0.0000   \n",
      "Converged:          1.0000           Scale:            1.0000   \n",
      "No. Iterations:     8.0000                                      \n",
      "-----------------------------------------------------------------\n",
      "             Coef.   Std.Err.     z      P>|z|    [0.025   0.975]\n",
      "-----------------------------------------------------------------\n",
      "income      -2.1915    0.1135  -19.3078  0.0000  -2.4140  -1.9691\n",
      "age         -3.0841    0.1203  -25.6413  0.0000  -3.3198  -2.8483\n",
      "loan         3.7586    0.1558   24.1287  0.0000   3.4533   4.0639\n",
      "================================================================\n",
      "\n"
     ]
    }
   ],
   "source": [
    "#Annova\n",
    "import statsmodels.api as sm\n",
    "model=sm.Logit(Y,X)\n",
    "result=model.fit()\n",
    "print(result.summary2())"
   ]
  },
  {
   "cell_type": "code",
   "execution_count": 21,
   "metadata": {},
   "outputs": [],
   "source": [
    "import pickle\n",
    "\n",
    "pickle.dump(model, open(\"LogisticRegressionDefault\", 'wb'))"
   ]
  },
  {
   "cell_type": "code",
   "execution_count": 22,
   "metadata": {},
   "outputs": [
    {
     "name": "stdout",
     "output_type": "stream",
     "text": [
      "[[1191    0]\n",
      " [   0 1206]]\n",
      "1.0\n",
      "[[515   3]\n",
      " [  5 505]]\n",
      "0.9922178988326849\n"
     ]
    }
   ],
   "source": [
    "##########Decision Tree##########\n",
    "from sklearn import tree\n",
    "model = tree.DecisionTreeClassifier(max_depth=9) #Through my own experiment trying the different max_depth, The most optimised max_depth is 9\n",
    "\n",
    "model.fit(X_train, Y_train)\n",
    "pred = model.predict(X_train)\n",
    "\n",
    "from sklearn.metrics import confusion_matrix\n",
    "cm = confusion_matrix(pred, Y_train)\n",
    "print(cm)\n",
    "accuracy = (cm[0,0]+cm[1,1])/sum(sum(cm))\n",
    "print(accuracy)\n",
    "\n",
    "pred = model.predict(X_test)\n",
    "cm = confusion_matrix(pred, Y_test)\n",
    "print(cm)\n",
    "accuracy = (cm[0,0]+cm[1,1])/sum(sum(cm))\n",
    "print(accuracy)"
   ]
  },
  {
   "cell_type": "code",
   "execution_count": 23,
   "metadata": {},
   "outputs": [
    {
     "name": "stderr",
     "output_type": "stream",
     "text": [
      "C:\\Users\\kebom\\anaconda3\\lib\\site-packages\\ipykernel_launcher.py:4: DataConversionWarning: A column-vector y was passed when a 1d array was expected. Please change the shape of y to (n_samples,), for example using ravel().\n",
      "  after removing the cwd from sys.path.\n"
     ]
    },
    {
     "name": "stdout",
     "output_type": "stream",
     "text": [
      "[[1191    0]\n",
      " [   0 1206]]\n",
      "1.0\n",
      "[[515   5]\n",
      " [  0 508]]\n",
      "0.995136186770428\n"
     ]
    }
   ],
   "source": [
    "######################Random forest #########################\n",
    "from sklearn.ensemble import RandomForestClassifier\n",
    "model = RandomForestClassifier()\n",
    "model.fit(X_train, Y_train)\n",
    "pred = model.predict(X_train)\n",
    "\n",
    "from sklearn.metrics import confusion_matrix\n",
    "cm = confusion_matrix(Y_train, pred)\n",
    "print(cm)\n",
    "\n",
    "accuracy = (cm[0,0] + cm[1,1])/sum(sum(cm))\n",
    "\n",
    "print(accuracy)\n",
    "\n",
    "pred = model.predict(X_test)\n",
    "cm = confusion_matrix(Y_test, pred)\n",
    "print(cm)\n",
    "accuracy = (cm[0,0] + cm[1,1])/sum(sum(cm))\n",
    "\n",
    "print(accuracy)"
   ]
  },
  {
   "cell_type": "code",
   "execution_count": 24,
   "metadata": {},
   "outputs": [
    {
     "data": {
      "text/plain": [
       "['RandomForestDefault']"
      ]
     },
     "execution_count": 24,
     "metadata": {},
     "output_type": "execute_result"
    }
   ],
   "source": [
    "import joblib \n",
    "joblib.dump(model,\"RandomForestDefault\")"
   ]
  },
  {
   "cell_type": "code",
   "execution_count": 25,
   "metadata": {},
   "outputs": [
    {
     "name": "stderr",
     "output_type": "stream",
     "text": [
      "C:\\Users\\kebom\\anaconda3\\lib\\site-packages\\sklearn\\ensemble\\_gb.py:1454: DataConversionWarning: A column-vector y was passed when a 1d array was expected. Please change the shape of y to (n_samples, ), for example using ravel().\n",
      "  y = column_or_1d(y, warn=True)\n"
     ]
    },
    {
     "name": "stdout",
     "output_type": "stream",
     "text": [
      "[[1191    0]\n",
      " [   0 1206]]\n",
      "1.0\n",
      "[[513   7]\n",
      " [  1 507]]\n",
      "0.9922178988326849\n"
     ]
    }
   ],
   "source": [
    "###################XGBoost####################\n",
    "from sklearn.ensemble import GradientBoostingClassifier\n",
    "model = GradientBoostingClassifier()\n",
    "\n",
    "model.fit(X_train, Y_train)\n",
    "pred = model.predict(X_train)\n",
    "\n",
    "from sklearn.metrics import confusion_matrix\n",
    "cm = confusion_matrix(Y_train, pred)\n",
    "print(cm)\n",
    "\n",
    "accuracy = (cm[0,0] + cm[1,1])/sum(sum(cm))\n",
    "print(accuracy)\n",
    "\n",
    "pred = model.predict(X_test)\n",
    "cm = confusion_matrix(Y_test, pred)\n",
    "print(cm)\n",
    "\n",
    "accuracy = (cm[0,0] + cm[1,1])/sum(sum(cm))\n",
    "print(accuracy)"
   ]
  },
  {
   "cell_type": "code",
   "execution_count": 26,
   "metadata": {},
   "outputs": [
    {
     "data": {
      "text/plain": [
       "['XGBoostDefault']"
      ]
     },
     "execution_count": 26,
     "metadata": {},
     "output_type": "execute_result"
    }
   ],
   "source": [
    "import joblib \n",
    "joblib.dump(model,\"XGBoostDefault\")"
   ]
  },
  {
   "cell_type": "code",
   "execution_count": 27,
   "metadata": {},
   "outputs": [],
   "source": [
    "#########################Neural network#################\n",
    "from keras.models import Sequential\n",
    "from keras.layers import Dense, Dropout\n",
    "model=Sequential()"
   ]
  },
  {
   "cell_type": "code",
   "execution_count": 28,
   "metadata": {},
   "outputs": [],
   "source": [
    "model.add(Dense(10, input_dim=3, activation='relu'))\n",
    "model.add(Dropout(0.2))\n",
    "\n",
    "model.add(Dense(8, activation=\"relu\"))\n",
    "model.add(Dropout(0.3))\n",
    "\n",
    "model.add(Dense(1, activation='sigmoid'))"
   ]
  },
  {
   "cell_type": "code",
   "execution_count": 29,
   "metadata": {},
   "outputs": [],
   "source": [
    "model.compile(loss = 'binary_crossentropy', optimizer = 'Adamax', metrics = ['accuracy'])"
   ]
  },
  {
   "cell_type": "code",
   "execution_count": 30,
   "metadata": {},
   "outputs": [
    {
     "name": "stdout",
     "output_type": "stream",
     "text": [
      "Epoch 1/30\n",
      "80/80 [==============================] - 1s 2ms/step - loss: 0.6257 - accuracy: 0.6558\n",
      "Epoch 2/30\n",
      "80/80 [==============================] - 0s 2ms/step - loss: 0.5730 - accuracy: 0.7447\n",
      "Epoch 3/30\n",
      "80/80 [==============================] - 0s 2ms/step - loss: 0.5314 - accuracy: 0.7835\n",
      "Epoch 4/30\n",
      "80/80 [==============================] - 0s 2ms/step - loss: 0.4925 - accuracy: 0.7935\n",
      "Epoch 5/30\n",
      "80/80 [==============================] - 0s 2ms/step - loss: 0.4637 - accuracy: 0.8035\n",
      "Epoch 6/30\n",
      "80/80 [==============================] - 0s 1ms/step - loss: 0.4414 - accuracy: 0.7981\n",
      "Epoch 7/30\n",
      "80/80 [==============================] - 0s 1ms/step - loss: 0.4124 - accuracy: 0.8185\n",
      "Epoch 8/30\n",
      "80/80 [==============================] - 0s 1ms/step - loss: 0.4119 - accuracy: 0.8118\n",
      "Epoch 9/30\n",
      "80/80 [==============================] - 0s 1ms/step - loss: 0.3893 - accuracy: 0.8223\n",
      "Epoch 10/30\n",
      "80/80 [==============================] - 0s 1ms/step - loss: 0.3582 - accuracy: 0.8340\n",
      "Epoch 11/30\n",
      "80/80 [==============================] - 0s 1ms/step - loss: 0.3415 - accuracy: 0.8511\n",
      "Epoch 12/30\n",
      "80/80 [==============================] - 0s 1ms/step - loss: 0.3342 - accuracy: 0.8586\n",
      "Epoch 13/30\n",
      "80/80 [==============================] - 0s 1ms/step - loss: 0.3223 - accuracy: 0.8619\n",
      "Epoch 14/30\n",
      "80/80 [==============================] - 0s 1ms/step - loss: 0.3185 - accuracy: 0.8623\n",
      "Epoch 15/30\n",
      "80/80 [==============================] - 0s 1ms/step - loss: 0.3120 - accuracy: 0.8673\n",
      "Epoch 16/30\n",
      "80/80 [==============================] - 0s 1ms/step - loss: 0.2916 - accuracy: 0.8765\n",
      "Epoch 17/30\n",
      "80/80 [==============================] - 0s 2ms/step - loss: 0.2916 - accuracy: 0.8765\n",
      "Epoch 18/30\n",
      "80/80 [==============================] - 0s 2ms/step - loss: 0.2789 - accuracy: 0.8924\n",
      "Epoch 19/30\n",
      "80/80 [==============================] - 0s 2ms/step - loss: 0.2721 - accuracy: 0.8890\n",
      "Epoch 20/30\n",
      "80/80 [==============================] - 0s 2ms/step - loss: 0.2595 - accuracy: 0.8986\n",
      "Epoch 21/30\n",
      "80/80 [==============================] - 0s 2ms/step - loss: 0.2440 - accuracy: 0.9007\n",
      "Epoch 22/30\n",
      "80/80 [==============================] - 0s 1ms/step - loss: 0.2407 - accuracy: 0.9057\n",
      "Epoch 23/30\n",
      "80/80 [==============================] - 0s 1ms/step - loss: 0.2346 - accuracy: 0.9086\n",
      "Epoch 24/30\n",
      "80/80 [==============================] - 0s 1ms/step - loss: 0.2254 - accuracy: 0.9149\n",
      "Epoch 25/30\n",
      "80/80 [==============================] - 0s 1ms/step - loss: 0.2179 - accuracy: 0.9132\n",
      "Epoch 26/30\n",
      "80/80 [==============================] - 0s 1ms/step - loss: 0.2132 - accuracy: 0.9191\n",
      "Epoch 27/30\n",
      "80/80 [==============================] - 0s 1ms/step - loss: 0.2116 - accuracy: 0.9157\n",
      "Epoch 28/30\n",
      "80/80 [==============================] - 0s 1ms/step - loss: 0.2075 - accuracy: 0.9266\n",
      "Epoch 29/30\n",
      "80/80 [==============================] - 0s 2ms/step - loss: 0.1982 - accuracy: 0.9270\n",
      "Epoch 30/30\n",
      "80/80 [==============================] - 0s 2ms/step - loss: 0.1987 - accuracy: 0.9266\n"
     ]
    },
    {
     "data": {
      "text/plain": [
       "<keras.callbacks.History at 0x22a0d638c48>"
      ]
     },
     "execution_count": 30,
     "metadata": {},
     "output_type": "execute_result"
    }
   ],
   "source": [
    "model.fit(X_train, Y_train, batch_size = 30, epochs=30, verbose=1)"
   ]
  },
  {
   "cell_type": "code",
   "execution_count": 31,
   "metadata": {},
   "outputs": [
    {
     "name": "stdout",
     "output_type": "stream",
     "text": [
      "75/75 [==============================] - 0s 1ms/step - loss: 0.1302 - accuracy: 0.9508\n",
      "33/33 [==============================] - 0s 1ms/step - loss: 0.1156 - accuracy: 0.9640\n"
     ]
    },
    {
     "data": {
      "text/plain": [
       "[0.1156098023056984, 0.9640077948570251]"
      ]
     },
     "execution_count": 31,
     "metadata": {},
     "output_type": "execute_result"
    }
   ],
   "source": [
    "model.evaluate(X_train, Y_train)\n",
    "model.evaluate(X_test, Y_test)"
   ]
  },
  {
   "cell_type": "code",
   "execution_count": 32,
   "metadata": {},
   "outputs": [
    {
     "name": "stdout",
     "output_type": "stream",
     "text": [
      "[[1087  104]\n",
      " [  14 1192]]\n",
      "0.9507717980809345\n",
      "[[488  32]\n",
      " [  5 503]]\n",
      "0.9640077821011673\n"
     ]
    }
   ],
   "source": [
    "import numpy as np\n",
    "from sklearn.metrics import confusion_matrix\n",
    "\n",
    "pred=model.predict(X_train)\n",
    "pred=np.where(pred>0.5,1,0)\n",
    "cm=confusion_matrix(Y_train, pred)\n",
    "print(cm)\n",
    "\n",
    "accuracy=(cm[0,0]+cm[1,1])/sum(sum(cm))\n",
    "print(accuracy)\n",
    "\n",
    "pred=model.predict(X_test)\n",
    "pred=np.where(pred>0.5,1,0)\n",
    "cm=confusion_matrix(Y_test, pred)\n",
    "print(cm)\n",
    "\n",
    "accuracy=(cm[0,0]+cm[1,1])/sum(sum(cm))\n",
    "print(accuracy)"
   ]
  },
  {
   "cell_type": "code",
   "execution_count": 33,
   "metadata": {},
   "outputs": [
    {
     "name": "stdout",
     "output_type": "stream",
     "text": [
      "Model: \"sequential\"\n",
      "_________________________________________________________________\n",
      " Layer (type)                Output Shape              Param #   \n",
      "=================================================================\n",
      " dense (Dense)               (None, 10)                40        \n",
      "                                                                 \n",
      " dropout (Dropout)           (None, 10)                0         \n",
      "                                                                 \n",
      " dense_1 (Dense)             (None, 8)                 88        \n",
      "                                                                 \n",
      " dropout_1 (Dropout)         (None, 8)                 0         \n",
      "                                                                 \n",
      " dense_2 (Dense)             (None, 1)                 9         \n",
      "                                                                 \n",
      "=================================================================\n",
      "Total params: 137\n",
      "Trainable params: 137\n",
      "Non-trainable params: 0\n",
      "_________________________________________________________________\n"
     ]
    }
   ],
   "source": [
    "model.summary()"
   ]
  },
  {
   "cell_type": "code",
   "execution_count": 34,
   "metadata": {},
   "outputs": [
    {
     "data": {
      "text/plain": [
       "[<tf.Variable 'dense/kernel:0' shape=(3, 10) dtype=float32, numpy=\n",
       " array([[ 0.2173889 , -0.17024133, -0.25627017,  0.3102909 , -0.38232884,\n",
       "          0.12271597, -0.27036336, -0.18363479, -0.15503542, -0.22912636],\n",
       "        [ 0.9133247 , -0.751535  , -0.57971925, -0.6759527 , -0.51664805,\n",
       "          0.6097247 , -0.04869802,  0.1019216 ,  1.1609899 , -0.7011568 ],\n",
       "        [-0.8169031 ,  0.6879167 , -0.05177926, -0.3515018 ,  0.4162678 ,\n",
       "          0.15978846,  0.6359503 , -0.42010096,  0.4622005 ,  0.6477184 ]],\n",
       "       dtype=float32)>,\n",
       " <tf.Variable 'dense/bias:0' shape=(10,) dtype=float32, numpy=\n",
       " array([ 0.30664694,  0.04330224, -0.10525725, -0.07092857,  0.15982346,\n",
       "         0.0949078 ,  0.30859452, -0.2584746 ,  0.05909529, -0.00208084],\n",
       "       dtype=float32)>,\n",
       " <tf.Variable 'dense_1/kernel:0' shape=(10, 8) dtype=float32, numpy=\n",
       " array([[ 0.43482128, -0.1390491 , -0.1483756 , -0.26612896,  0.70920223,\n",
       "         -0.37744844,  0.09029174,  0.8198525 ],\n",
       "        [-0.11987501,  0.14521173,  0.22675587,  0.47400576, -0.50190556,\n",
       "          0.18725498, -0.330435  , -0.28815302],\n",
       "        [-0.40606755,  0.20318098, -0.15477653, -0.27189004, -0.01741677,\n",
       "         -0.07501263, -0.26602072, -0.54793525],\n",
       "        [ 0.23429991, -0.13028805, -0.19073273, -0.41885874, -0.47323978,\n",
       "         -0.12103011,  0.49589154, -0.20367153],\n",
       "        [-0.40331703,  0.34936318, -0.07800581,  0.50069124, -0.53292686,\n",
       "          0.75790596, -0.18391266, -0.5809751 ],\n",
       "        [ 0.19904844, -0.00642394, -0.47179413, -0.25661418,  0.43407938,\n",
       "         -0.08117503,  0.6016933 , -0.11078797],\n",
       "        [ 0.0996659 ,  0.415922  ,  0.13737445,  0.5039662 , -0.3311793 ,\n",
       "          0.25570884,  0.2623033 ,  0.2862682 ],\n",
       "        [-0.09016079, -0.44883883,  0.18546988,  0.23190747, -0.10125969,\n",
       "         -0.38980412,  0.38950363, -0.23753755],\n",
       "        [ 0.52005595, -0.31155488, -0.00874942, -0.3299515 ,  0.06906559,\n",
       "         -0.36141393,  0.27771193,  0.31572932],\n",
       "        [-0.30351076,  0.7138075 ,  0.65859133,  0.41617846,  0.27718836,\n",
       "          0.606375  , -0.5355334 , -0.06698798]], dtype=float32)>,\n",
       " <tf.Variable 'dense_1/bias:0' shape=(8,) dtype=float32, numpy=\n",
       " array([0.3265791 , 0.09786209, 0.07333191, 0.06884904, 0.23281658,\n",
       "        0.1707267 , 0.30684072, 0.24509838], dtype=float32)>,\n",
       " <tf.Variable 'dense_2/kernel:0' shape=(8, 1) dtype=float32, numpy=\n",
       " array([[-0.878796  ],\n",
       "        [ 0.6468537 ],\n",
       "        [ 0.38801053],\n",
       "        [ 1.0705376 ],\n",
       "        [-1.0260038 ],\n",
       "        [ 0.6195515 ],\n",
       "        [-0.87837905],\n",
       "        [-1.2564869 ]], dtype=float32)>,\n",
       " <tf.Variable 'dense_2/bias:0' shape=(1,) dtype=float32, numpy=array([-0.17413917], dtype=float32)>]"
      ]
     },
     "execution_count": 34,
     "metadata": {},
     "output_type": "execute_result"
    }
   ],
   "source": [
    "model.weights"
   ]
  },
  {
   "cell_type": "code",
   "execution_count": 35,
   "metadata": {},
   "outputs": [
    {
     "name": "stdout",
     "output_type": "stream",
     "text": [
      "INFO:tensorflow:Assets written to: NeuralNetworkDefault\\assets\n"
     ]
    }
   ],
   "source": [
    "model.save(\"NeuralNetworkDefault\")"
   ]
  },
  {
   "cell_type": "code",
   "execution_count": null,
   "metadata": {},
   "outputs": [],
   "source": []
  }
 ],
 "metadata": {
  "kernelspec": {
   "display_name": "Python 3",
   "language": "python",
   "name": "python3"
  },
  "language_info": {
   "codemirror_mode": {
    "name": "ipython",
    "version": 3
   },
   "file_extension": ".py",
   "mimetype": "text/x-python",
   "name": "python",
   "nbconvert_exporter": "python",
   "pygments_lexer": "ipython3",
   "version": "3.7.6"
  }
 },
 "nbformat": 4,
 "nbformat_minor": 4
}
